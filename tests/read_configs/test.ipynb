{
 "cells": [
  {
   "cell_type": "code",
   "execution_count": 1,
   "id": "8725354a-c301-418a-8a1d-02a53efc1660",
   "metadata": {},
   "outputs": [],
   "source": [
    "from intdielec.io import cp2k"
   ]
  },
  {
   "cell_type": "code",
   "execution_count": 2,
   "id": "5cc4b865-bda3-43f0-b24e-d42dfb91ce99",
   "metadata": {},
   "outputs": [
    {
     "data": {
      "text/plain": [
       "{'io': {'cp2k': {'input': {'pp_dir': '/data/jxzhu/basis',\n",
       "    'cutoff': 1000,\n",
       "    'rel_cutoff': 50}}}}"
      ]
     },
     "execution_count": 2,
     "metadata": {},
     "output_type": "execute_result"
    }
   ],
   "source": [
    "cp2k.CONFIGS"
   ]
  },
  {
   "cell_type": "code",
   "execution_count": 3,
   "id": "27763ba8-b5e8-458e-be05-7fbdf0a7602e",
   "metadata": {},
   "outputs": [],
   "source": [
    "from ase import build"
   ]
  },
  {
   "cell_type": "code",
   "execution_count": 4,
   "id": "3f59d606-0e24-4b6a-990c-07dc860f1b40",
   "metadata": {},
   "outputs": [],
   "source": [
    "atoms = build.molecule(\"H2O\")"
   ]
  },
  {
   "cell_type": "code",
   "execution_count": 5,
   "id": "9d03792e-c8ca-4cc9-be03-7849f78c7d6e",
   "metadata": {},
   "outputs": [],
   "source": [
    "from intdielec.io.cp2k import Cp2kInput"
   ]
  },
  {
   "cell_type": "code",
   "execution_count": 6,
   "id": "b97d336d-827b-4396-a44c-b75c31bc78d2",
   "metadata": {},
   "outputs": [],
   "source": [
    "task = Cp2kInput(atoms=atoms)\n",
    "task.write()"
   ]
  },
  {
   "cell_type": "code",
   "execution_count": null,
   "id": "9b67025a-e958-4423-a249-a1f7ad99c2ab",
   "metadata": {},
   "outputs": [],
   "source": []
  }
 ],
 "metadata": {
  "kernelspec": {
   "display_name": "dip",
   "language": "python",
   "name": "dip"
  },
  "language_info": {
   "codemirror_mode": {
    "name": "ipython",
    "version": 3
   },
   "file_extension": ".py",
   "mimetype": "text/x-python",
   "name": "python",
   "nbconvert_exporter": "python",
   "pygments_lexer": "ipython3",
   "version": "3.9.7"
  }
 },
 "nbformat": 4,
 "nbformat_minor": 5
}
