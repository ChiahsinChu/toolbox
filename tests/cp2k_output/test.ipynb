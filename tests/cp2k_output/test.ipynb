{
 "cells": [
  {
   "cell_type": "code",
   "execution_count": 1,
   "metadata": {},
   "outputs": [],
   "source": [
    "from toolbox.utils import *\n",
    "from toolbox.io.cp2k import Cp2kOutput"
   ]
  },
  {
   "cell_type": "code",
   "execution_count": 6,
   "metadata": {},
   "outputs": [
    {
     "name": "stdout",
     "output_type": "stream",
     "text": [
      "Atoms(symbols='H124O62Pt96', pbc=True, cell=[11.246, 11.246, 60.0])\n",
      "(1, 282, 3)\n"
     ]
    }
   ],
   "source": [
    "cp2k_out = Cp2kOutput(\"output_v7.1\")\n",
    "print(cp2k_out.atoms)\n",
    "print(cp2k_out.coord.shape)"
   ]
  },
  {
   "cell_type": "code",
   "execution_count": 7,
   "metadata": {},
   "outputs": [
    {
     "name": "stdout",
     "output_type": "stream",
     "text": [
      "Atoms(symbols='H2OPt96', pbc=True, cell=[11.246, 11.246, 45.94])\n",
      "(1, 99, 3)\n"
     ]
    }
   ],
   "source": [
    "cp2k_out = Cp2kOutput(\"output_v9.1\")\n",
    "print(cp2k_out.atoms)\n",
    "print(cp2k_out.coord.shape)"
   ]
  },
  {
   "attachments": {},
   "cell_type": "markdown",
   "metadata": {},
   "source": [
    "# dpdata"
   ]
  },
  {
   "cell_type": "code",
   "execution_count": null,
   "metadata": {},
   "outputs": [],
   "source": [
    "import dpdata"
   ]
  },
  {
   "cell_type": "code",
   "execution_count": null,
   "metadata": {},
   "outputs": [],
   "source": [
    "dp_output = dpdata.LabeledSystem(\"output_v7.1\", fmt=\"cp2k/output\")\n",
    "print(dp_output[\"coords\"].shape)"
   ]
  },
  {
   "cell_type": "code",
   "execution_count": null,
   "metadata": {},
   "outputs": [],
   "source": [
    "dp_output = dpdata.LabeledSystem(\"output_v9.1\", fmt=\"cp2k/output\")\n",
    "print(dp_output[\"coords\"].shape)"
   ]
  },
  {
   "cell_type": "code",
   "execution_count": null,
   "metadata": {},
   "outputs": [],
   "source": []
  }
 ],
 "metadata": {
  "kernelspec": {
   "display_name": "leiden",
   "language": "python",
   "name": "python3"
  },
  "language_info": {
   "codemirror_mode": {
    "name": "ipython",
    "version": 3
   },
   "file_extension": ".py",
   "mimetype": "text/x-python",
   "name": "python",
   "nbconvert_exporter": "python",
   "pygments_lexer": "ipython3",
   "version": "3.9.0"
  },
  "orig_nbformat": 4
 },
 "nbformat": 4,
 "nbformat_minor": 2
}
