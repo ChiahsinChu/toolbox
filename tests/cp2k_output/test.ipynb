{
 "cells": [
  {
   "cell_type": "code",
   "execution_count": 6,
   "metadata": {},
   "outputs": [],
   "source": [
    "from toolbox.utils import *\n",
    "from toolbox.io.cp2k import Cp2kOutput"
   ]
  },
  {
   "cell_type": "code",
   "execution_count": null,
   "metadata": {},
   "outputs": [],
   "source": [
    "cp2k_out = Cp2kOutput(\"output_v7.1\")\n",
    "print(cp2k_out.atoms)\n",
    "print(cp2k_out.coord.shape)\n",
    "# print(cp2k_out.surf_dipole_moment)"
   ]
  },
  {
   "cell_type": "code",
   "execution_count": null,
   "metadata": {},
   "outputs": [],
   "source": [
    "cp2k_out = Cp2kOutput(\"output_v9.1\")\n",
    "print(cp2k_out.atoms)\n",
    "print(cp2k_out.coord.shape)"
   ]
  },
  {
   "cell_type": "code",
   "execution_count": 7,
   "metadata": {},
   "outputs": [
    {
     "name": "stdout",
     "output_type": "stream",
     "text": [
      "Atoms(symbols='H2OPt96', pbc=True, cell=[11.246, 11.246, 45.94])\n",
      "(1, 99, 3)\n",
      "[0.16595377]\n"
     ]
    }
   ],
   "source": [
    "cp2k_out = Cp2kOutput(\"output_surf_dipole\")\n",
    "print(cp2k_out.atoms)\n",
    "print(cp2k_out.coord.shape)\n",
    "# print(cp2k_out.dipole_moment)\n",
    "print(cp2k_out.surf_dipole_moment)"
   ]
  },
  {
   "cell_type": "code",
   "execution_count": 9,
   "metadata": {},
   "outputs": [
    {
     "name": "stdout",
     "output_type": "stream",
     "text": [
      "Atoms(symbols='H128O64', pbc=True, cell=[12.42, 12.42, 12.42])\n",
      "(1, 192, 3)\n",
      "[[ 9.25644566  7.6998952  -9.9382236 ]]\n"
     ]
    }
   ],
   "source": [
    "cp2k_out = Cp2kOutput(\"output_berry_dipole\")\n",
    "print(cp2k_out.atoms)\n",
    "print(cp2k_out.coord.shape)\n",
    "print(cp2k_out.dipole_moment)\n",
    "# print(cp2k_out.surf_dipole_moment)"
   ]
  },
  {
   "cell_type": "code",
   "execution_count": null,
   "metadata": {},
   "outputs": [],
   "source": []
  },
  {
   "cell_type": "code",
   "execution_count": null,
   "metadata": {},
   "outputs": [],
   "source": []
  },
  {
   "attachments": {},
   "cell_type": "markdown",
   "metadata": {},
   "source": [
    "# dpdata"
   ]
  },
  {
   "cell_type": "code",
   "execution_count": null,
   "metadata": {},
   "outputs": [],
   "source": [
    "import dpdata"
   ]
  },
  {
   "cell_type": "code",
   "execution_count": null,
   "metadata": {},
   "outputs": [],
   "source": [
    "dp_output = dpdata.LabeledSystem(\"output_v7.1\", fmt=\"cp2k/output\")\n",
    "print(dp_output[\"coords\"].shape)"
   ]
  },
  {
   "cell_type": "code",
   "execution_count": null,
   "metadata": {},
   "outputs": [],
   "source": [
    "dp_output = dpdata.LabeledSystem(\"output_v9.1\", fmt=\"cp2k/output\")\n",
    "print(dp_output[\"coords\"].shape)"
   ]
  },
  {
   "cell_type": "code",
   "execution_count": null,
   "metadata": {},
   "outputs": [],
   "source": []
  }
 ],
 "metadata": {
  "kernelspec": {
   "display_name": "leiden",
   "language": "python",
   "name": "python3"
  },
  "language_info": {
   "codemirror_mode": {
    "name": "ipython",
    "version": 3
   },
   "file_extension": ".py",
   "mimetype": "text/x-python",
   "name": "python",
   "nbconvert_exporter": "python",
   "pygments_lexer": "ipython3",
   "version": "3.9.0"
  },
  "orig_nbformat": 4
 },
 "nbformat": 4,
 "nbformat_minor": 2
}
