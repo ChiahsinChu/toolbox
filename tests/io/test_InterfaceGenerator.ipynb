{
  "cells": [
  {
   "cell_type": "code",
   "execution_count": null,
   "metadata": {},
   "outputs": [],
   "source": [
    "import MDAnalysis as mda\n",
    "import mdapackmol\n",
    "from ase import io, build\n",
    "import os"
   ]
  },
  {
   "cell_type": "code",
   "execution_count": null,
   "metadata": {},
   "outputs": [],
   "source": [
    "atoms = build.molecule(\"H2O\")\n",
    "io.write(\"water.pdb\", atoms)"
   ]
  },
  {
   "cell_type": "code",
   "execution_count": null,
   "metadata": {},
   "outputs": [],
   "source": [
    "water = mda.Universe(\"water.pdb\")\n",
    "\n",
    "# call Packmol with MDAnalysis objects as arguments\n",
    "# the 'instructions' allow for any valid Packmol commands\n",
    "system = mdapackmol.packmol(\n",
    "    [\n",
    "        mdapackmol.PackmolStructure(\n",
    "            water, number=1000, instructions=[\"inside box 0. 0. 0. 40. 40. 40.\"]\n",
    "        )\n",
    "    ]\n",
    ")\n",
    "\n",
    "# the returned system is a MDAnalysis Universe\n",
    "# with all topology information from building blocks retained\n",
    "# which can then be saved into any format\n",
    "# eg to Lammps data file:\n",
    "system.atoms.write(\"topology.data\")\n",
    "\n",
    "os.remove(\"water.pdb\")"
   ]
  },
  {
   "cell_type": "code",
   "execution_count": 1,
   "metadata": {},
   "outputs": [
    {
     "name": "stderr",
     "output_type": "stream",
     "text": [
      "/opt/miniconda3/envs/leiden/lib/python3.9/site-packages/tqdm/auto.py:22: TqdmWarning: IProgress not found. Please update jupyter and ipywidgets. See https://ipywidgets.readthedocs.io/en/stable/user_install.html\n",
      "  from .autonotebook import tqdm as notebook_tqdm\n"
     ]
    }
   ],
   "source": [
    "from toolbox.io.build import WaterBox"
   ]
  },
  {
   "cell_type": "code",
   "execution_count": 2,
   "metadata": {},
   "outputs": [
    {
     "name": "stdout",
     "output_type": "stream",
     "text": [
      "33.428480488481824\n"
     ]
    }
   ],
   "source": [
    "task = WaterBox(box=[10, 10, 10])"
   ]
  },
  {
   "cell_type": "code",
   "execution_count": 3,
   "metadata": {},
   "outputs": [
    {
     "data": {
      "text/plain": [
       "33.428480488481824"
      ]
     },
     "execution_count": 3,
     "metadata": {},
     "output_type": "execute_result"
    }
   ],
   "source": [
    "task.n_wat"
   ]
  },
  {
   "cell_type": "code",
   "execution_count": 6,
   "metadata": {},
   "outputs": [
    {
     "name": "stderr",
     "output_type": "stream",
     "text": [
      "/Users/jxzhu/workspace/software/mdanalysis/package/MDAnalysis/coordinates/PDB.py:753: UserWarning: Unit cell dimensions not found. CRYST1 record set to unitary values.\n",
      "  warnings.warn(\"Unit cell dimensions not found. \"\n",
      "/Users/jxzhu/workspace/software/mdanalysis/package/MDAnalysis/coordinates/PDB.py:1129: UserWarning: Found no information for attr: 'formalcharges' Using default value of '0'\n",
      "  warnings.warn(\"Found no information for attr: '{}'\"\n",
      "/Users/jxzhu/workspace/software/mdanalysis/package/MDAnalysis/coordinates/PDB.py:1176: UserWarning: Found missing chainIDs. Corresponding atoms will use value of 'X'\n",
      "  warnings.warn(\"Found missing chainIDs.\"\n"
     ]
    },
    {
     "ename": "ValueError",
     "evalue": "Packmol failed with errorcode 127 and stderr: b'/bin/sh: packmol: command not found\\n'",
     "output_type": "error",
     "traceback": [
      "\u001b[0;31m---------------------------------------------------------------------------\u001b[0m",
      "\u001b[0;31mCalledProcessError\u001b[0m                        Traceback (most recent call last)",
      "File \u001b[0;32m/opt/miniconda3/envs/leiden/lib/python3.9/site-packages/mdapackmol-0.1.0-py3.9.egg/mdapackmol/mdapackmol.py:111\u001b[0m, in \u001b[0;36mrun_packmol\u001b[0;34m()\u001b[0m\n\u001b[1;32m    110\u001b[0m \u001b[39mtry\u001b[39;00m:\n\u001b[0;32m--> 111\u001b[0m     p \u001b[39m=\u001b[39m subprocess\u001b[39m.\u001b[39;49mrun(\u001b[39m'\u001b[39;49m\u001b[39mpackmol < \u001b[39;49m\u001b[39m{}\u001b[39;49;00m\u001b[39m'\u001b[39;49m\u001b[39m.\u001b[39;49mformat(PACKMOL_INP),\n\u001b[1;32m    112\u001b[0m                        check\u001b[39m=\u001b[39;49m\u001b[39mTrue\u001b[39;49;00m,\n\u001b[1;32m    113\u001b[0m                        shell\u001b[39m=\u001b[39;49m\u001b[39mTrue\u001b[39;49;00m,\n\u001b[1;32m    114\u001b[0m                        stdout\u001b[39m=\u001b[39;49msubprocess\u001b[39m.\u001b[39;49mPIPE,\n\u001b[1;32m    115\u001b[0m                        stderr\u001b[39m=\u001b[39;49msubprocess\u001b[39m.\u001b[39;49mPIPE)\n\u001b[1;32m    116\u001b[0m \u001b[39mexcept\u001b[39;00m subprocess\u001b[39m.\u001b[39mCalledProcessError \u001b[39mas\u001b[39;00m e:\n",
      "File \u001b[0;32m/opt/miniconda3/envs/leiden/lib/python3.9/subprocess.py:528\u001b[0m, in \u001b[0;36mrun\u001b[0;34m(input, capture_output, timeout, check, *popenargs, **kwargs)\u001b[0m\n\u001b[1;32m    527\u001b[0m     \u001b[39mif\u001b[39;00m check \u001b[39mand\u001b[39;00m retcode:\n\u001b[0;32m--> 528\u001b[0m         \u001b[39mraise\u001b[39;00m CalledProcessError(retcode, process\u001b[39m.\u001b[39margs,\n\u001b[1;32m    529\u001b[0m                                  output\u001b[39m=\u001b[39mstdout, stderr\u001b[39m=\u001b[39mstderr)\n\u001b[1;32m    530\u001b[0m \u001b[39mreturn\u001b[39;00m CompletedProcess(process\u001b[39m.\u001b[39margs, retcode, stdout, stderr)\n",
      "\u001b[0;31mCalledProcessError\u001b[0m: Command 'packmol < packmol.inp' returned non-zero exit status 127.",
      "\nDuring handling of the above exception, another exception occurred:\n",
      "\u001b[0;31mValueError\u001b[0m                                Traceback (most recent call last)",
      "Cell \u001b[0;32mIn[6], line 1\u001b[0m\n\u001b[0;32m----> 1\u001b[0m task\u001b[39m.\u001b[39;49mrun(\u001b[39m\"\u001b[39;49m\u001b[39mout.xyz\u001b[39;49m\u001b[39m\"\u001b[39;49m)\n",
      "File \u001b[0;32m~/workspace/software/toolbox/toolbox/io/build.py:31\u001b[0m, in \u001b[0;36mWaterBox.run\u001b[0;34m(self, fname, **kwargs)\u001b[0m\n\u001b[1;32m     29\u001b[0m io\u001b[39m.\u001b[39mwrite(\u001b[39m\"\u001b[39m\u001b[39mwater.pdb\u001b[39m\u001b[39m\"\u001b[39m, atoms)\n\u001b[1;32m     30\u001b[0m water \u001b[39m=\u001b[39m mda\u001b[39m.\u001b[39mUniverse(\u001b[39m\"\u001b[39m\u001b[39mwater.pdb\u001b[39m\u001b[39m\"\u001b[39m)\n\u001b[0;32m---> 31\u001b[0m system \u001b[39m=\u001b[39m mdapackmol\u001b[39m.\u001b[39;49mpackmol([\n\u001b[1;32m     32\u001b[0m     mdapackmol\u001b[39m.\u001b[39;49mPackmolStructure(\n\u001b[1;32m     33\u001b[0m         water,\n\u001b[1;32m     34\u001b[0m         number\u001b[39m=\u001b[39;49m\u001b[39mself\u001b[39;49m\u001b[39m.\u001b[39;49mn_wat,\n\u001b[1;32m     35\u001b[0m         instructions\u001b[39m=\u001b[39;49m[\u001b[39m\"\u001b[39;49m\u001b[39minside box \u001b[39;49m\u001b[39m%s\u001b[39;49;00m\u001b[39m\"\u001b[39;49m \u001b[39m%\u001b[39;49m \u001b[39mself\u001b[39;49m\u001b[39m.\u001b[39;49mbox_string])\n\u001b[1;32m     36\u001b[0m ])\n\u001b[1;32m     37\u001b[0m system\u001b[39m.\u001b[39matoms\u001b[39m.\u001b[39mwrite(fname, \u001b[39m*\u001b[39m\u001b[39m*\u001b[39mkwargs)\n\u001b[1;32m     38\u001b[0m os\u001b[39m.\u001b[39mremove(\u001b[39m\"\u001b[39m\u001b[39mwater.pdb\u001b[39m\u001b[39m\"\u001b[39m)\n",
      "File \u001b[0;32m/opt/miniconda3/envs/leiden/lib/python3.9/site-packages/mdapackmol-0.1.0-py3.9.egg/mdapackmol/mdapackmol.py:245\u001b[0m, in \u001b[0;36mpackmol\u001b[0;34m(structures, tolerance)\u001b[0m\n\u001b[1;32m    242\u001b[0m \u001b[39mtry\u001b[39;00m:\n\u001b[1;32m    243\u001b[0m     make_packmol_input(structures, tolerance\u001b[39m=\u001b[39mtolerance)\n\u001b[0;32m--> 245\u001b[0m     run_packmol()\n\u001b[1;32m    246\u001b[0m \u001b[39mexcept\u001b[39;00m PackmolError:\n\u001b[1;32m    247\u001b[0m     \u001b[39m# todo: Deal with error\u001b[39;00m\n\u001b[1;32m    248\u001b[0m     new \u001b[39m=\u001b[39m \u001b[39mNone\u001b[39;00m\n",
      "File \u001b[0;32m/opt/miniconda3/envs/leiden/lib/python3.9/site-packages/mdapackmol-0.1.0-py3.9.egg/mdapackmol/mdapackmol.py:117\u001b[0m, in \u001b[0;36mrun_packmol\u001b[0;34m()\u001b[0m\n\u001b[1;32m    111\u001b[0m     p \u001b[39m=\u001b[39m subprocess\u001b[39m.\u001b[39mrun(\u001b[39m'\u001b[39m\u001b[39mpackmol < \u001b[39m\u001b[39m{}\u001b[39;00m\u001b[39m'\u001b[39m\u001b[39m.\u001b[39mformat(PACKMOL_INP),\n\u001b[1;32m    112\u001b[0m                        check\u001b[39m=\u001b[39m\u001b[39mTrue\u001b[39;00m,\n\u001b[1;32m    113\u001b[0m                        shell\u001b[39m=\u001b[39m\u001b[39mTrue\u001b[39;00m,\n\u001b[1;32m    114\u001b[0m                        stdout\u001b[39m=\u001b[39msubprocess\u001b[39m.\u001b[39mPIPE,\n\u001b[1;32m    115\u001b[0m                        stderr\u001b[39m=\u001b[39msubprocess\u001b[39m.\u001b[39mPIPE)\n\u001b[1;32m    116\u001b[0m \u001b[39mexcept\u001b[39;00m subprocess\u001b[39m.\u001b[39mCalledProcessError \u001b[39mas\u001b[39;00m e:\n\u001b[0;32m--> 117\u001b[0m     \u001b[39mraise\u001b[39;00m \u001b[39mValueError\u001b[39;00m(\u001b[39m\"\u001b[39m\u001b[39mPackmol failed with errorcode \u001b[39m\u001b[39m{}\u001b[39;00m\u001b[39m\"\u001b[39m\n\u001b[1;32m    118\u001b[0m                      \u001b[39m\"\u001b[39m\u001b[39m and stderr: \u001b[39m\u001b[39m{}\u001b[39;00m\u001b[39m\"\u001b[39m\u001b[39m.\u001b[39mformat(e\u001b[39m.\u001b[39mreturncode, e\u001b[39m.\u001b[39mstderr))\n\u001b[1;32m    119\u001b[0m \u001b[39melse\u001b[39;00m:\n\u001b[1;32m    120\u001b[0m     \u001b[39mwith\u001b[39;00m \u001b[39mopen\u001b[39m(\u001b[39m'\u001b[39m\u001b[39mpackmol.stdout\u001b[39m\u001b[39m'\u001b[39m, \u001b[39m'\u001b[39m\u001b[39mw\u001b[39m\u001b[39m'\u001b[39m) \u001b[39mas\u001b[39;00m out:\n",
      "\u001b[0;31mValueError\u001b[0m: Packmol failed with errorcode 127 and stderr: b'/bin/sh: packmol: command not found\\n'"
     ]
    }
   ],
   "source": [
    "task.run(\"out.xyz\")"
   ]
  },
  {
   "cell_type": "code",
   "execution_count": null,
   "metadata": {},
   "outputs": [],
   "source": []
  }
 ],
 "metadata": {
  "kernelspec": {
   "display_name": "leiden",
   "language": "python",
   "name": "python3"
  },
  "language_info": {
   "codemirror_mode": {
    "name": "ipython",
    "version": 3
   },
   "file_extension": ".py",
   "mimetype": "text/x-python",
   "name": "python",
   "nbconvert_exporter": "python",
   "pygments_lexer": "ipython3",
   "version": "3.9.16"
  },
  "orig_nbformat": 4
 },
 "nbformat": 4,
 "nbformat_minor": 2
}
