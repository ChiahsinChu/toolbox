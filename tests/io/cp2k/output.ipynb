{
 "cells": [
  {
   "cell_type": "code",
   "execution_count": 1,
   "id": "1e6ae094-5ab7-4885-8e73-b646b081013a",
   "metadata": {},
   "outputs": [],
   "source": [
    "from intdielec.io.cp2k import Cp2kOutput\n",
    "from intdielec.utils.unit import *"
   ]
  },
  {
   "cell_type": "code",
   "execution_count": 2,
   "id": "4edf7027-1e21-4a7d-9c2a-cef3a9183ea7",
   "metadata": {},
   "outputs": [],
   "source": [
    "output = Cp2kOutput(\"output.out\")"
   ]
  },
  {
   "cell_type": "markdown",
   "id": "c16c61f6-5a97-4875-a97a-7bad29a54940",
   "metadata": {
    "jp-MarkdownHeadingCollapsed": true,
    "tags": []
   },
   "source": [
    "# total energy"
   ]
  },
  {
   "cell_type": "code",
   "execution_count": 13,
   "id": "459e53fd-d755-427b-8855-15d2c5d329ca",
   "metadata": {},
   "outputs": [],
   "source": [
    "data = output.grep_text_2(\"Total energy: \")\n",
    "data = data.replace('\\n', ' ')\n",
    "data = data.split(' ')\n",
    "e_1 = float(data[-1]) * AU_TO_EV\n",
    "\n",
    "data = output.grep_text_2(\"Total FORCE_EVAL\")\n",
    "data = data.replace('\\n', ' ')\n",
    "data = data.split(' ')\n",
    "e_2 = float(data[-1]) * AU_TO_EV"
   ]
  },
  {
   "cell_type": "code",
   "execution_count": 14,
   "id": "1e5171c8-dc27-42a5-864a-8bce0a70da63",
   "metadata": {},
   "outputs": [
    {
     "name": "stdout",
     "output_type": "stream",
     "text": [
      "Total energy [eV]:  -71615.07862955485\n",
      "Total FORCE_EVAL Energy [eV]:  -71615.07876371265\n",
      "Energy difference [eV]:  0.000134157802676782\n"
     ]
    }
   ],
   "source": [
    "print(\"Total energy [eV]: \", e_1)\n",
    "print(\"Total FORCE_EVAL Energy [eV]: \", e_2)\n",
    "print(\"Energy difference [eV]: \", e_1 - e_2)"
   ]
  },
  {
   "cell_type": "markdown",
   "id": "b43351d9-ff88-4fb0-bcfa-1dd1f48c65b4",
   "metadata": {
    "jp-MarkdownHeadingCollapsed": true,
    "tags": []
   },
   "source": [
    "# atomic charge"
   ]
  },
  {
   "cell_type": "code",
   "execution_count": 42,
   "id": "5d9a4073-9e58-4b59-afe4-861392ab7765",
   "metadata": {},
   "outputs": [],
   "source": [
    "import re\n",
    "import numpy as np"
   ]
  },
  {
   "cell_type": "code",
   "execution_count": 26,
   "id": "8c188f66-eb7a-4766-b6c7-125747fa804f",
   "metadata": {},
   "outputs": [],
   "source": [
    "start_pattern = \"Hirshfeld Charges\"\n",
    "nlines = 104"
   ]
  },
  {
   "cell_type": "code",
   "execution_count": 43,
   "id": "343d0e38-e198-468b-bcc4-a11b5a30b2b2",
   "metadata": {},
   "outputs": [],
   "source": [
    "def grep_texts_by_nlines(start_pattern, nlines):\n",
    "    start_pattern = re.compile(start_pattern)\n",
    "\n",
    "    data_lines = []\n",
    "    nframe = 0\n",
    "    for ii, line in enumerate(output.content):\n",
    "        line = line.strip('\\n')\n",
    "        if start_pattern.search(line) is not None:\n",
    "            # print(output.content[ii: ii+nlines])\n",
    "            data_lines.append(output.content[ii: ii+nlines])\n",
    "            nframe += 1\n",
    "            continue  \n",
    "    # nframe = len(data_lines)\n",
    "    return nframe, data_lines"
   ]
  },
  {
   "cell_type": "code",
   "execution_count": 44,
   "id": "3354bc1b-1f6b-4d36-881e-7e4f58ad999f",
   "metadata": {},
   "outputs": [],
   "source": [
    "nframe, data_lines = grep_texts_by_nlines(start_pattern, nlines)\n",
    "data_lines = np.reshape(data_lines, (nframe, -1))\n",
    "\n",
    "data_list = []\n",
    "for line in data_lines[:, 3:].reshape(-1):\n",
    "    line_list = line.split()\n",
    "    data_list.append(float(line_list[-1]))"
   ]
  },
  {
   "cell_type": "code",
   "execution_count": 45,
   "id": "e6e8575d-27cd-4edf-88b1-875c4482fdd3",
   "metadata": {},
   "outputs": [
    {
     "data": {
      "text/plain": [
       "array([[-0.022, -0.009, -0.003, -0.015,  0.005, -0.022, -0.01 , -0.006,\n",
       "         0.003, -0.037, -0.01 , -0.018, -0.015, -0.022, -0.017, -0.018,\n",
       "         0.006,  0.021,  0.014,  0.002,  0.004,  0.014,  0.004,  0.019,\n",
       "         0.012,  0.012,  0.017,  0.007,  0.019,  0.001,  0.011,  0.005,\n",
       "         0.002,  0.014,  0.002,  0.002,  0.005,  0.006, -0.006,  0.01 ,\n",
       "        -0.008,  0.002,  0.01 ,  0.003,  0.008,  0.007, -0.001,  0.   ,\n",
       "         0.002, -0.004,  0.002,  0.004,  0.022, -0.003, -0.004,  0.02 ,\n",
       "        -0.002,  0.008, -0.008,  0.004, -0.009, -0.003, -0.016,  0.003,\n",
       "         0.004, -0.   ,  0.012,  0.026,  0.019, -0.016,  0.014,  0.022,\n",
       "         0.014,  0.012,  0.01 , -0.006,  0.018,  0.008,  0.014,  0.012,\n",
       "        -0.045, -0.027, -0.045, -0.019, -0.043, -0.124, -0.051, -0.025,\n",
       "        -0.019, -0.17 , -0.299, -0.055, -0.017, -0.116, -0.066, -0.048,\n",
       "        -0.418,  0.589,  0.589,  0.178,  0.043]])"
      ]
     },
     "execution_count": 45,
     "metadata": {},
     "output_type": "execute_result"
    }
   ],
   "source": [
    "np.reshape(data_list, (nframe, -1))"
   ]
  },
  {
   "cell_type": "code",
   "execution_count": 3,
   "id": "bfeb0701-04a6-4349-91a2-252129fcccc4",
   "metadata": {},
   "outputs": [
    {
     "data": {
      "text/plain": [
       "array([[-0.071935, -0.04795 , -0.035286, -0.035154, -0.061241, -0.076684,\n",
       "        -0.054443, -0.019393, -0.064902, -0.068258, -0.059851, -0.04202 ,\n",
       "        -0.042392, -0.082345, -0.067676, -0.05936 ,  0.035538,  0.048059,\n",
       "         0.030349,  0.018874,  0.020695,  0.019256,  0.046431,  0.070963,\n",
       "         0.017696,  0.017247,  0.02431 ,  0.028745,  0.052605,  0.009866,\n",
       "        -0.000464,  0.007012,  0.042726,  0.023575, -0.008986,  0.034599,\n",
       "         0.035049,  0.023776,  0.019025,  0.056264,  0.015492,  0.028285,\n",
       "         0.050982,  0.017263,  0.030138,  0.040653,  0.006104,  0.014468,\n",
       "         0.008223,  0.022628,  0.018658,  0.052474,  0.084505,  0.003598,\n",
       "         0.016048,  0.076552,  0.033172,  0.021696,  0.015281,  0.023471,\n",
       "        -0.00774 ,  0.020991, -0.011073,  0.022311,  0.007911,  0.00237 ,\n",
       "         0.04776 ,  0.079112,  0.048034, -0.057036,  0.033172,  0.061649,\n",
       "         0.040626,  0.036561,  0.014355, -0.02667 ,  0.058664,  0.025001,\n",
       "         0.035218,  0.012702, -0.078222, -0.021304, -0.063973, -0.078749,\n",
       "        -0.069846, -0.155465, -0.072847, -0.048372, -0.061797, -0.075599,\n",
       "        -0.048943, -0.084797, -0.046806, -0.071939, -0.0967  , -0.115846,\n",
       "        -0.123929,  0.142284,  0.143441,  0.175981,  0.045502]])"
      ]
     },
     "execution_count": 3,
     "metadata": {},
     "output_type": "execute_result"
    }
   ],
   "source": [
    "output.m_charge"
   ]
  },
  {
   "cell_type": "code",
   "execution_count": 4,
   "id": "6cdc1a64-a534-45e0-a635-82773c3291c0",
   "metadata": {},
   "outputs": [
    {
     "data": {
      "text/plain": [
       "array([[-0.022, -0.009, -0.003, -0.015,  0.005, -0.022, -0.01 , -0.006,\n",
       "         0.003, -0.037, -0.01 , -0.018, -0.015, -0.022, -0.017, -0.018,\n",
       "         0.006,  0.021,  0.014,  0.002,  0.004,  0.014,  0.004,  0.019,\n",
       "         0.012,  0.012,  0.017,  0.007,  0.019,  0.001,  0.011,  0.005,\n",
       "         0.002,  0.014,  0.002,  0.002,  0.005,  0.006, -0.006,  0.01 ,\n",
       "        -0.008,  0.002,  0.01 ,  0.003,  0.008,  0.007, -0.001,  0.   ,\n",
       "         0.002, -0.004,  0.002,  0.004,  0.022, -0.003, -0.004,  0.02 ,\n",
       "        -0.002,  0.008, -0.008,  0.004, -0.009, -0.003, -0.016,  0.003,\n",
       "         0.004, -0.   ,  0.012,  0.026,  0.019, -0.016,  0.014,  0.022,\n",
       "         0.014,  0.012,  0.01 , -0.006,  0.018,  0.008,  0.014,  0.012,\n",
       "        -0.045, -0.027, -0.045, -0.019, -0.043, -0.124, -0.051, -0.025,\n",
       "        -0.019, -0.17 , -0.299, -0.055, -0.017, -0.116, -0.066, -0.048,\n",
       "        -0.418,  0.589,  0.589,  0.178,  0.043]])"
      ]
     },
     "execution_count": 4,
     "metadata": {},
     "output_type": "execute_result"
    }
   ],
   "source": [
    "output.h_charge"
   ]
  },
  {
   "cell_type": "markdown",
   "id": "f6550c56-b475-4002-acc0-f33839f702f8",
   "metadata": {
    "jp-MarkdownHeadingCollapsed": true,
    "tags": []
   },
   "source": [
    "# surface dipole moment"
   ]
  },
  {
   "cell_type": "code",
   "execution_count": 6,
   "id": "4eb43895-fafb-45fd-b7b1-99275883af79",
   "metadata": {},
   "outputs": [],
   "source": [
    "import re\n",
    "import numpy as np"
   ]
  },
  {
   "cell_type": "code",
   "execution_count": 25,
   "id": "8d652089-cf32-42b0-a81b-8d65b5082d4e",
   "metadata": {},
   "outputs": [],
   "source": [
    "pattern = 'Total dipole moment perpendicular to'\n",
    "pattern = re.compile(pattern)\n",
    "\n",
    "flag = False\n",
    "data_lines = []\n",
    "nframe = 0\n",
    "for line in output.content:\n",
    "    line = line.strip('\\n')\n",
    "    if pattern.search(line) is not None:\n",
    "        flag = True\n",
    "        nframe += 1\n",
    "        continue\n",
    "    if flag:\n",
    "        data_lines.append(line)\n",
    "        flag = False\n",
    "data_lines = np.reshape(data_lines, (nframe))\n",
    "data_list = []\n",
    "for line in data_lines:\n",
    "    line_list = line.split()\n",
    "    data_list.append(float(line_list[-1]))"
   ]
  },
  {
   "cell_type": "code",
   "execution_count": 26,
   "id": "e6b3d47e-3edb-4cc2-a895-75e7efe353b0",
   "metadata": {},
   "outputs": [
    {
     "data": {
      "text/plain": [
       "[-1.5878220042]"
      ]
     },
     "execution_count": 26,
     "metadata": {},
     "output_type": "execute_result"
    }
   ],
   "source": [
    "data_list"
   ]
  },
  {
   "cell_type": "code",
   "execution_count": 3,
   "id": "d7605c7e-d4c2-46d3-821d-2edca7c8ba29",
   "metadata": {},
   "outputs": [
    {
     "data": {
      "text/plain": [
       "array([-1.587822])"
      ]
     },
     "execution_count": 3,
     "metadata": {},
     "output_type": "execute_result"
    }
   ],
   "source": [
    "output.surf_dipole_moment"
   ]
  },
  {
   "cell_type": "code",
   "execution_count": 4,
   "id": "61ed8808-62de-4cb8-b4e0-2f2652e88b8e",
   "metadata": {},
   "outputs": [],
   "source": [
    "from intdielec.io.cp2k import Cp2kHartreeCube"
   ]
  },
  {
   "cell_type": "code",
   "execution_count": 5,
   "id": "8160292b-f04d-4855-a53a-57473e5b882e",
   "metadata": {},
   "outputs": [],
   "source": [
    "cube = Cp2kHartreeCube(\"cp2k-v_hartree-1_0.cube\")"
   ]
  },
  {
   "cell_type": "code",
   "execution_count": 6,
   "id": "5c272822-848f-4cdb-b751-70f2cb63d959",
   "metadata": {},
   "outputs": [],
   "source": [
    "output = cube.get_ave_cube()"
   ]
  },
  {
   "cell_type": "code",
   "execution_count": 7,
   "id": "f03aeee6-0721-4713-903f-c214c8f4e456",
   "metadata": {},
   "outputs": [],
   "source": [
    "import matplotlib.pyplot as plt"
   ]
  },
  {
   "cell_type": "code",
   "execution_count": 8,
   "id": "334df64b-4fc5-47c5-9ddf-735c13470c94",
   "metadata": {},
   "outputs": [
    {
     "data": {
      "image/png": "[encoded data removed]",
      "text/plain": [
       "<Figure size 432x288 with 1 Axes>"
      ]
     },
     "metadata": {
      "needs_background": "light"
     },
     "output_type": "display_data"
    }
   ],
   "source": [
    "plt.plot(output[0], output[1])\n",
    "\n",
    "\n",
    "plt.show()"
   ]
  },
  {
   "cell_type": "code",
   "execution_count": 15,
   "id": "cb15afd5-03d7-4752-8abe-22ba20f9230a",
   "metadata": {},
   "outputs": [],
   "source": [
    "cube.set_vac_region(vac_region=[40., 5.])\n",
    "cube.set_cross_area(11.087 * 9.602)"
   ]
  },
  {
   "cell_type": "code",
   "execution_count": 16,
   "id": "23c8f637-176d-430f-ad34-d7261f8e9eff",
   "metadata": {},
   "outputs": [
    {
     "data": {
      "text/plain": [
       "-0.7938834322360663"
      ]
     },
     "execution_count": 16,
     "metadata": {},
     "output_type": "execute_result"
    }
   ],
   "source": [
    "cube.dipole"
   ]
  },
  {
   "cell_type": "code",
   "execution_count": 17,
   "id": "1843a8ae-20a6-4341-9936-d4a25958508a",
   "metadata": {},
   "outputs": [
    {
     "data": {
      "text/plain": [
       "1.349405926565776"
      ]
     },
     "execution_count": 17,
     "metadata": {},
     "output_type": "execute_result"
    }
   ],
   "source": [
    "cube.potdrop"
   ]
  },
  {
   "cell_type": "code",
   "execution_count": 18,
   "id": "ab78b63e-374a-4c5b-aee7-d9f33f1c57d8",
   "metadata": {},
   "outputs": [
    {
     "data": {
      "text/plain": [
       "3.3251638920062856"
      ]
     },
     "execution_count": 18,
     "metadata": {},
     "output_type": "execute_result"
    }
   ],
   "source": [
    "cube.ave_cube_data[-10]"
   ]
  },
  {
   "cell_type": "code",
   "execution_count": 19,
   "id": "e0203cf4-54b2-48da-a578-f8033ee03488",
   "metadata": {},
   "outputs": [
    {
     "data": {
      "text/plain": [
       "6.024010452583365"
      ]
     },
     "execution_count": 19,
     "metadata": {},
     "output_type": "execute_result"
    }
   ],
   "source": [
    "cube.ave_cube_data[10]"
   ]
  },
  {
   "cell_type": "code",
   "execution_count": 25,
   "id": "eea364e9-389e-4088-9866-e434099f2611",
   "metadata": {},
   "outputs": [
    {
     "name": "stdout",
     "output_type": "stream",
     "text": [
      "-1.5877872835805986\n"
     ]
    }
   ],
   "source": [
    "deltaV = 6.024010452583365 - 3.3251638920062856\n",
    "print(cube.dipole * deltaV / cube.potdrop)"
   ]
  },
  {
   "cell_type": "code",
   "execution_count": 21,
   "id": "456ae43a-c4ac-4ed2-b468-332de5fa1b15",
   "metadata": {},
   "outputs": [
    {
     "data": {
      "text/plain": [
       "Atoms(symbols='H2Na2OPt96', pbc=False, cell=[11.087435218011082, 9.601991395427113, 49.99988025151194])"
      ]
     },
     "execution_count": 21,
     "metadata": {},
     "output_type": "execute_result"
    }
   ],
   "source": [
    "cube.atoms"
   ]
  },
  {
   "cell_type": "code",
   "execution_count": 24,
   "id": "d5bd1755-7d70-47f9-98f2-203c46f3d1ff",
   "metadata": {},
   "outputs": [
    {
     "data": {
      "text/plain": [
       "(216, 189, 960)"
      ]
     },
     "execution_count": 24,
     "metadata": {},
     "output_type": "execute_result"
    }
   ],
   "source": [
    "cube.cube_data.shape"
   ]
  },
  {
   "cell_type": "code",
   "execution_count": null,
   "id": "0be63637-d0fc-42e1-8863-8dfcf078a0fc",
   "metadata": {},
   "outputs": [],
   "source": [
    "# 11.087\n",
    "11.087435218011082"
   ]
  }
 ],
 "metadata": {
  "kernelspec": {
   "display_name": "dip",
   "language": "python",
   "name": "dip"
  },
  "language_info": {
   "codemirror_mode": {
    "name": "ipython",
    "version": 3
   },
   "file_extension": ".py",
   "mimetype": "text/x-python",
   "name": "python",
   "nbconvert_exporter": "python",
   "pygments_lexer": "ipython3",
   "version": "3.9.13"
  }
 },
 "nbformat": 4,
 "nbformat_minor": 5
}
