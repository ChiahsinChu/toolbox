{
 "cells": [
  {
   "cell_type": "code",
   "execution_count": null,
   "metadata": {},
   "outputs": [],
   "source": [
    "from intdielec.utils.unit import *"
   ]
  },
  {
   "cell_type": "code",
   "execution_count": 1,
   "metadata": {},
   "outputs": [],
   "source": [
    "from intdielec.io import cp2k"
   ]
  },
  {
   "cell_type": "code",
   "execution_count": 3,
   "metadata": {},
   "outputs": [
    {
     "ename": "ModuleNotFoundError",
     "evalue": "No module named 'intdielec.io.cp2k'",
     "output_type": "error",
     "traceback": [
      "\u001b[0;31m---------------------------------------------------------------------------\u001b[0m",
      "\u001b[0;31mModuleNotFoundError\u001b[0m                       Traceback (most recent call last)",
      "Cell \u001b[0;32mIn[3], line 1\u001b[0m\n\u001b[0;32m----> 1\u001b[0m \u001b[39mfrom\u001b[39;00m \u001b[39mintdielec\u001b[39;00m\u001b[39m.\u001b[39;00m\u001b[39mio\u001b[39;00m\u001b[39m.\u001b[39;00m\u001b[39mcp2k\u001b[39;00m \u001b[39mimport\u001b[39;00m Cp2kOutput\n",
      "\u001b[0;31mModuleNotFoundError\u001b[0m: No module named 'intdielec.io.cp2k'"
     ]
    }
   ],
   "source": [
    "from intdielec.io.cp2k import Cp2kOutput"
   ]
  },
  {
   "cell_type": "code",
   "execution_count": 2,
   "metadata": {},
   "outputs": [
    {
     "data": {
      "text/plain": [
       "intdielec.exts.toolbox.toolbox.io.cp2k.Cp2kOutput"
      ]
     },
     "execution_count": 2,
     "metadata": {},
     "output_type": "execute_result"
    }
   ],
   "source": [
    "cp2k.Cp2kOutput"
   ]
  },
  {
   "cell_type": "code",
   "execution_count": 5,
   "metadata": {},
   "outputs": [
    {
     "name": "stdout",
     "output_type": "stream",
     "text": [
      "Help on module intdielec.exts.toolbox.toolbox.io.cp2k in intdielec.exts.toolbox.toolbox.io:\n",
      "\n",
      "NAME\n",
      "    intdielec.exts.toolbox.toolbox.io.cp2k\n",
      "\n",
      "CLASSES\n",
      "    builtins.object\n",
      "        Cp2kCube\n",
      "            Cp2kHartreeCube\n",
      "        Cp2kInput\n",
      "        Cp2kOutput\n",
      "    intdielec.exts.toolbox.toolbox.exts.cp2kdata.cp2kdata.pdos.Cp2kPdos(builtins.object)\n",
      "        Cp2kPdos\n",
      "    \n",
      "    class Cp2kCube(builtins.object)\n",
      "     |  Cp2kCube(fname) -> None\n",
      "     |  \n",
      "     |  Methods defined here:\n",
      "     |  \n",
      "     |  __init__(self, fname) -> None\n",
      "     |      Initialize self.  See help(type(self)) for accurate signature.\n",
      "     |  \n",
      "     |  get_ave_cube(self, axis=2, gaussian_sigma=0.0)\n",
      "     |  \n",
      "     |  ----------------------------------------------------------------------\n",
      "     |  Data descriptors defined here:\n",
      "     |  \n",
      "     |  __dict__\n",
      "     |      dictionary for instance variables (if defined)\n",
      "     |  \n",
      "     |  __weakref__\n",
      "     |      list of weak references to the object (if defined)\n",
      "    \n",
      "    class Cp2kHartreeCube(Cp2kCube)\n",
      "     |  Cp2kHartreeCube(fname, vac_region: list = None) -> None\n",
      "     |  \n",
      "     |  Method resolution order:\n",
      "     |      Cp2kHartreeCube\n",
      "     |      Cp2kCube\n",
      "     |      builtins.object\n",
      "     |  \n",
      "     |  Methods defined here:\n",
      "     |  \n",
      "     |  __init__(self, fname, vac_region: list = None) -> None\n",
      "     |      Initialize self.  See help(type(self)) for accurate signature.\n",
      "     |  \n",
      "     |  get_ave_cube(self, axis=2, gaussian_sigma=0)\n",
      "     |  \n",
      "     |  set_cross_area(self, cross_area)\n",
      "     |  \n",
      "     |  set_vac_region(self, vac_region)\n",
      "     |  \n",
      "     |  ----------------------------------------------------------------------\n",
      "     |  Readonly properties defined here:\n",
      "     |  \n",
      "     |  dipole\n",
      "     |      Dipole moment of cell [e A]\n",
      "     |  \n",
      "     |  potdrop\n",
      "     |  \n",
      "     |  ----------------------------------------------------------------------\n",
      "     |  Data descriptors inherited from Cp2kCube:\n",
      "     |  \n",
      "     |  __dict__\n",
      "     |      dictionary for instance variables (if defined)\n",
      "     |  \n",
      "     |  __weakref__\n",
      "     |      list of weak references to the object (if defined)\n",
      "    \n",
      "    class Cp2kInput(builtins.object)\n",
      "     |  Cp2kInput(atoms, input_type='energy', **kwargs) -> None\n",
      "     |  \n",
      "     |  Class for CP2K input file generation (on the basis of templates)\n",
      "     |  \n",
      "     |  Attributes\n",
      "     |  ----------\n",
      "     |  atoms: ASE Atoms object\n",
      "     |      TBC\n",
      "     |  input_type: str\n",
      "     |      TBC\n",
      "     |  pp_dir: str\n",
      "     |      directory for basis set, peusudopotential, etc.\n",
      "     |  wfn_restart: str\n",
      "     |      wfn file for restart, see ref: \n",
      "     |  qm_charge: float\n",
      "     |      charge in QS\n",
      "     |  multiplicity: int\n",
      "     |      ref:\n",
      "     |  uks: boolen\n",
      "     |      ref:\n",
      "     |  cutoff: int\n",
      "     |      ref: \n",
      "     |  rel_cutoff: int\n",
      "     |      ref: \n",
      "     |  \n",
      "     |  Examples\n",
      "     |  --------\n",
      "     |  >>> from ase import io\n",
      "     |  >>> from zjxpack.io.cp2k import Cp2kInput\n",
      "     |  >>> atoms = io.read(\"POSCAR\")\n",
      "     |  >>> input = Cp2kInput(atoms, \n",
      "     |  >>>                   pp_dir=\"/data/basis\", \n",
      "     |  >>>                   hartree=True, \n",
      "     |  >>>                   eden=True)\n",
      "     |  >>> input.write()\n",
      "     |  \n",
      "     |  Methods defined here:\n",
      "     |  \n",
      "     |  __init__(self, atoms, input_type='energy', **kwargs) -> None\n",
      "     |      Initialize self.  See help(type(self)) for accurate signature.\n",
      "     |  \n",
      "     |  set_cutoff(self, cutoff)\n",
      "     |  \n",
      "     |  set_dip_cor(self, flag)\n",
      "     |  \n",
      "     |  set_eden(self, flag)\n",
      "     |  \n",
      "     |  set_efield(self, flag)\n",
      "     |  \n",
      "     |  set_eps_scf(self, eps_scf: float)\n",
      "     |  \n",
      "     |  set_extended_fft_lengths(self, flag)\n",
      "     |  \n",
      "     |  set_hartree(self, flag)\n",
      "     |  \n",
      "     |  set_kind(self, kind_dict: dict)\n",
      "     |      Parameter\n",
      "     |      ---------\n",
      "     |      kind_dict: dict\n",
      "     |          dict to update kind section, for example:\n",
      "     |          {\n",
      "     |              \"S\": {\n",
      "     |                  \"ELEMENT\": \"O\",\n",
      "     |                  \"BASIS_SET\": \"DZVP-MOLOPT-SR-GTH\", \n",
      "     |                  \"BASIS_SET\": \"GTH-PBE-q6\"\n",
      "     |              },\n",
      "     |              \"Li\": {\n",
      "     |                  \"ELEMENT\": \"H\",\n",
      "     |                  \"BASIS_SET\": \"DZVP-MOLOPT-SR-GTH\", \n",
      "     |                  \"BASIS_SET\": \"GTH-PBE-q1\"\n",
      "     |              }\n",
      "     |          }\n",
      "     |  \n",
      "     |  set_kp(self, kp_mp)\n",
      "     |  \n",
      "     |  set_max_scf(self, max_scf: int)\n",
      "     |  \n",
      "     |  set_md_step(self, md_step)\n",
      "     |  \n",
      "     |  set_md_temp(self, md_temp)\n",
      "     |  \n",
      "     |  set_md_timestep(self, md_timestep)\n",
      "     |  \n",
      "     |  set_mo(self, flag)\n",
      "     |  \n",
      "     |  set_multiplicity(self, multiplicity)\n",
      "     |  \n",
      "     |  set_params(self, kwargs)\n",
      "     |  \n",
      "     |  set_pdos(self, flag)\n",
      "     |  \n",
      "     |  set_pp_dir(self, pp_dir)\n",
      "     |  \n",
      "     |  set_project(self, project_name: str)\n",
      "     |  \n",
      "     |  set_qm_charge(self, charge)\n",
      "     |  \n",
      "     |  set_rel_cutoff(self, rel_cutoff)\n",
      "     |  \n",
      "     |  set_restart(self, flag)\n",
      "     |  \n",
      "     |  set_totden(self, flag)\n",
      "     |  \n",
      "     |  set_uks(self, flag)\n",
      "     |  \n",
      "     |  set_wfn_restart(self, wfn_file)\n",
      "     |  \n",
      "     |  write(self, output_dir='.', fp_params={}, save_dict=False)\n",
      "     |      generate coord.xyz and input.inp for CP2K calculation at output_dir\n",
      "     |      \n",
      "     |      Parameters\n",
      "     |      ----------\n",
      "     |      output_dir: str\n",
      "     |          directory to store coord.xyz and input.inp\n",
      "     |      fp_params: dict\n",
      "     |          dict for updated parameters\n",
      "     |  \n",
      "     |  ----------------------------------------------------------------------\n",
      "     |  Data descriptors defined here:\n",
      "     |  \n",
      "     |  __dict__\n",
      "     |      dictionary for instance variables (if defined)\n",
      "     |  \n",
      "     |  __weakref__\n",
      "     |      list of weak references to the object (if defined)\n",
      "    \n",
      "    class Cp2kOutput(builtins.object)\n",
      "     |  Cp2kOutput(fname='output.out', ignore_warning=False) -> None\n",
      "     |  \n",
      "     |  Methods defined here:\n",
      "     |  \n",
      "     |  __init__(self, fname='output.out', ignore_warning=False) -> None\n",
      "     |      Initialize self.  See help(type(self)) for accurate signature.\n",
      "     |  \n",
      "     |  grep_text(self, pattern)\n",
      "     |  \n",
      "     |  grep_text_2(self, pattern)\n",
      "     |  \n",
      "     |  grep_texts(self, start_pattern, end_pattern)\n",
      "     |  \n",
      "     |  grep_texts_by_nlines(self, start_pattern, nlines)\n",
      "     |  \n",
      "     |  ----------------------------------------------------------------------\n",
      "     |  Static methods defined here:\n",
      "     |  \n",
      "     |  grep_time(output_file)\n",
      "     |      grep the time info from cp2k output file\n",
      "     |      \n",
      "     |      Return:\n",
      "     |          float list of time [\"hour\", \"minute\", \"second\"]\n",
      "     |  \n",
      "     |  time_gap(start, end)\n",
      "     |      Args:\n",
      "     |          start: float list for inital time \n",
      "     |          end: float list for final time \n",
      "     |          in ['hour','minute','second']\n",
      "     |      Return:\n",
      "     |          time consuming for calculation \n",
      "     |          in second\n",
      "     |  \n",
      "     |  ----------------------------------------------------------------------\n",
      "     |  Readonly properties defined here:\n",
      "     |  \n",
      "     |  atoms\n",
      "     |  \n",
      "     |  coord\n",
      "     |      get atomic coordinate from cp2k output\n",
      "     |      \n",
      "     |      Return:\n",
      "     |          coord numpy array (n_atom, 3)\n",
      "     |  \n",
      "     |  dipole_moment\n",
      "     |  \n",
      "     |  energy\n",
      "     |  \n",
      "     |  energy_dict\n",
      "     |  \n",
      "     |  fermi\n",
      "     |  \n",
      "     |  force\n",
      "     |      get atomic force from cp2k output\n",
      "     |      \n",
      "     |      Return:\n",
      "     |          force numpy array (n_atom, 3)\n",
      "     |  \n",
      "     |  h_charge\n",
      "     |  \n",
      "     |  m_charge\n",
      "     |  \n",
      "     |  potdrop\n",
      "     |  \n",
      "     |  scf_loop\n",
      "     |  \n",
      "     |  surf_dipole_moment\n",
      "     |      Total dipole moment perpendicular to\n",
      "     |      the slab [electrons-Angstroem]:              -1.5878220042\n",
      "     |  \n",
      "     |  worktime\n",
      "     |  \n",
      "     |  ----------------------------------------------------------------------\n",
      "     |  Data descriptors defined here:\n",
      "     |  \n",
      "     |  __dict__\n",
      "     |      dictionary for instance variables (if defined)\n",
      "     |  \n",
      "     |  __weakref__\n",
      "     |      list of weak references to the object (if defined)\n",
      "    \n",
      "    class Cp2kPdos(intdielec.exts.toolbox.toolbox.exts.cp2kdata.cp2kdata.pdos.Cp2kPdos)\n",
      "     |  Cp2kPdos(file_name, parse_file_name=True) -> None\n",
      "     |  \n",
      "     |  Method resolution order:\n",
      "     |      Cp2kPdos\n",
      "     |      intdielec.exts.toolbox.toolbox.exts.cp2kdata.cp2kdata.pdos.Cp2kPdos\n",
      "     |      builtins.object\n",
      "     |  \n",
      "     |  Methods defined here:\n",
      "     |  \n",
      "     |  __init__(self, file_name, parse_file_name=True) -> None\n",
      "     |      Initialize self.  See help(type(self)) for accurate signature.\n",
      "     |  \n",
      "     |  get_dos(self, sigma=0.2, dos_type='total', steplen=0.01)\n",
      "     |  \n",
      "     |  get_raw_dos(self, dos_type='total', steplen=0.01)\n",
      "     |  \n",
      "     |  ----------------------------------------------------------------------\n",
      "     |  Readonly properties defined here:\n",
      "     |  \n",
      "     |  cbm\n",
      "     |  \n",
      "     |  homo\n",
      "     |  \n",
      "     |  lumo\n",
      "     |  \n",
      "     |  vbm\n",
      "     |  \n",
      "     |  ----------------------------------------------------------------------\n",
      "     |  Methods inherited from intdielec.exts.toolbox.toolbox.exts.cp2kdata.cp2kdata.pdos.Cp2kPdos:\n",
      "     |  \n",
      "     |  get_homo_ener(self)\n",
      "     |  \n",
      "     |  get_lumo_ener(self)\n",
      "     |  \n",
      "     |  read_dos_element(self)\n",
      "     |  \n",
      "     |  read_dos_energies(self)\n",
      "     |  \n",
      "     |  read_dos_fermi(self)\n",
      "     |  \n",
      "     |  ----------------------------------------------------------------------\n",
      "     |  Readonly properties inherited from intdielec.exts.toolbox.toolbox.exts.cp2kdata.cp2kdata.pdos.Cp2kPdos:\n",
      "     |  \n",
      "     |  occupation\n",
      "     |  \n",
      "     |  ----------------------------------------------------------------------\n",
      "     |  Data descriptors inherited from intdielec.exts.toolbox.toolbox.exts.cp2kdata.cp2kdata.pdos.Cp2kPdos:\n",
      "     |  \n",
      "     |  __dict__\n",
      "     |      dictionary for instance variables (if defined)\n",
      "     |  \n",
      "     |  __weakref__\n",
      "     |      list of weak references to the object (if defined)\n",
      "\n",
      "FUNCTIONS\n",
      "    gaussian_convolve(xs, ys, sigma)\n",
      "    \n",
      "    gaussian_kernel(bins, sigma)\n",
      "\n",
      "DATA\n",
      "    AMU = 1.660538782e-27\n",
      "    ANG_TO_CM = 1e-08\n",
      "    ANG_TO_M = 1e-10\n",
      "    AU_2_S = 2.41888432650478e-17\n",
      "    AU_TO_ANG = 0.52917720859\n",
      "    AU_TO_EV = 27.2113838565563\n",
      "    AU_TO_EV_EVERY_ANG = 51.42206318571696\n",
      "    B_CONST = 1.3806504e-23\n",
      "    CONFIGS = {}\n",
      "    DEBYE_TO_EA = 0.20833333333333334\n",
      "    NA = 6.02214076e+23\n",
      "    PS_2_S = 1e-12\n",
      "    UNIT_CHARGE = 1.602176487e-19\n",
      "    VAC_PERMITTIVITY = 8.85418781762039e-12\n",
      "    cp2k_default_input = {'bomd': {'FORCE_EVAL': {'DFT': {'BASIS_SET_FILE_...\n",
      "\n",
      "FILE\n",
      "    /Users/jxzhu/workspace/software/IntDielec/intdielec/exts/toolbox/toolbox/io/cp2k.py\n",
      "\n",
      "\n"
     ]
    }
   ],
   "source": [
    "help(cp2k)"
   ]
  },
  {
   "cell_type": "code",
   "execution_count": 2,
   "metadata": {},
   "outputs": [
    {
     "ename": "ModuleNotFoundError",
     "evalue": "No module named 'intdielec.io.cp2k'",
     "output_type": "error",
     "traceback": [
      "\u001b[0;31m---------------------------------------------------------------------------\u001b[0m",
      "\u001b[0;31mModuleNotFoundError\u001b[0m                       Traceback (most recent call last)",
      "Cell \u001b[0;32mIn[2], line 1\u001b[0m\n\u001b[0;32m----> 1\u001b[0m \u001b[39mfrom\u001b[39;00m \u001b[39mintdielec\u001b[39;00m\u001b[39m.\u001b[39;00m\u001b[39mio\u001b[39;00m\u001b[39m.\u001b[39;00m\u001b[39mcp2k\u001b[39;00m \u001b[39mimport\u001b[39;00m Cp2kInput\n",
      "\u001b[0;31mModuleNotFoundError\u001b[0m: No module named 'intdielec.io.cp2k'"
     ]
    }
   ],
   "source": [
    "from intdielec.io.cp2k import Cp2kInput"
   ]
  },
  {
   "cell_type": "code",
   "execution_count": 3,
   "metadata": {},
   "outputs": [],
   "source": [
    "from scipy import constants"
   ]
  },
  {
   "cell_type": "code",
   "execution_count": 11,
   "metadata": {},
   "outputs": [
    {
     "data": {
      "text/plain": [
       "1.6605390666e-27"
      ]
     },
     "execution_count": 11,
     "metadata": {},
     "output_type": "execute_result"
    }
   ],
   "source": [
    "constants.atomic_mass"
   ]
  },
  {
   "cell_type": "code",
   "execution_count": 12,
   "metadata": {},
   "outputs": [
    {
     "data": {
      "text/plain": [
       "1.380649e-23"
      ]
     },
     "execution_count": 12,
     "metadata": {},
     "output_type": "execute_result"
    }
   ],
   "source": [
    "constants.angstrom / constants.physical_constants[\"Bohr radius\"]"
   ]
  },
  {
   "cell_type": "code",
   "execution_count": 18,
   "metadata": {},
   "outputs": [
    {
     "data": {
      "text/plain": [
       "5.29177210903e-11"
      ]
     },
     "execution_count": 18,
     "metadata": {},
     "output_type": "execute_result"
    }
   ],
   "source": [
    "constants.physical_constants[\"Bohr radius\"][0]"
   ]
  },
  {
   "cell_type": "code",
   "execution_count": 25,
   "metadata": {},
   "outputs": [
    {
     "data": {
      "text/plain": [
       "1e-08"
      ]
     },
     "execution_count": 25,
     "metadata": {},
     "output_type": "execute_result"
    }
   ],
   "source": [
    "constants.angstrom / constants.centi"
   ]
  },
  {
   "cell_type": "code",
   "execution_count": 42,
   "metadata": {},
   "outputs": [],
   "source": [
    "from MDAnalysis.units import constants, convert"
   ]
  },
  {
   "cell_type": "code",
   "execution_count": 43,
   "metadata": {},
   "outputs": [
    {
     "data": {
      "text/plain": [
       "4.7622394903130193e-07"
      ]
     },
     "execution_count": 43,
     "metadata": {},
     "output_type": "execute_result"
    }
   ],
   "source": [
    "convert(constants[\"Boltzman_constant\"], \"kJ/mol\",\n",
    "            \"eV\") * 1 * constants[\"electric_constant\"]"
   ]
  },
  {
   "cell_type": "code",
   "execution_count": 44,
   "metadata": {},
   "outputs": [],
   "source": [
    "from scipy import constants"
   ]
  },
  {
   "cell_type": "code",
   "execution_count": 41,
   "metadata": {},
   "outputs": [
    {
     "data": {
      "text/plain": [
       "4.762239414061788e-07"
      ]
     },
     "execution_count": 41,
     "metadata": {},
     "output_type": "execute_result"
    }
   ],
   "source": [
    "(constants.epsilon_0 / constants.elementary_charge *\n",
    "                      constants.angstrom) * constants.physical_constants[\n",
    "                          \"Boltzmann constant in eV/K\"][0]"
   ]
  },
  {
   "cell_type": "code",
   "execution_count": 47,
   "metadata": {},
   "outputs": [
    {
     "data": {
      "text/plain": [
       "8.8541878128e-12"
      ]
     },
     "execution_count": 47,
     "metadata": {},
     "output_type": "execute_result"
    }
   ],
   "source": [
    "constants.epsilon_0"
   ]
  },
  {
   "cell_type": "code",
   "execution_count": null,
   "metadata": {},
   "outputs": [],
   "source": []
  }
 ],
 "metadata": {
  "kernelspec": {
   "display_name": "leiden",
   "language": "python",
   "name": "python3"
  },
  "language_info": {
   "codemirror_mode": {
    "name": "ipython",
    "version": 3
   },
   "file_extension": ".py",
   "mimetype": "text/x-python",
   "name": "python",
   "nbconvert_exporter": "python",
   "pygments_lexer": "ipython3",
   "version": "3.9.16"
  },
  "orig_nbformat": 4
 },
 "nbformat": 4,
 "nbformat_minor": 2
}
