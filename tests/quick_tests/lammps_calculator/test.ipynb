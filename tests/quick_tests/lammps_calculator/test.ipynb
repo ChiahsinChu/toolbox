{
 "cells": [
  {
   "cell_type": "code",
   "execution_count": 1,
   "metadata": {},
   "outputs": [],
   "source": [
    "import re\n",
    "import os"
   ]
  },
  {
   "cell_type": "code",
   "execution_count": 10,
   "metadata": {},
   "outputs": [],
   "source": [
    "def make_finished_tag(stdout):\n",
    "    with open(stdout, 'rb') as f: \n",
    "        offset = -50 \n",
    "        while True:\n",
    "            f.seek(offset, 2) \n",
    "            lines = f.readlines()  \n",
    "            if len(lines) >= 2: \n",
    "                last_line = lines[-1] \n",
    "                break\n",
    "            offset *= 2\n",
    "        line = last_line.decode()\n",
    "\n",
    "    pattern = re.compile(r\"Total wall time\")\n",
    "    if pattern.search(line) is not None:\n",
    "        with open(os.path.join(\"finished_tag\"), 'w') as f:\n",
    "            pass\n",
    "    else:\n",
    "        warning_msg = \"LAMMPS calculation does not finish!\"\n",
    "        print(warning_msg)"
   ]
  },
  {
   "cell_type": "code",
   "execution_count": 11,
   "metadata": {},
   "outputs": [],
   "source": [
    "make_finished_tag(\"lammps.stdout\")"
   ]
  },
  {
   "cell_type": "code",
   "execution_count": null,
   "metadata": {},
   "outputs": [],
   "source": []
  }
 ],
 "metadata": {
  "kernelspec": {
   "display_name": "dpff",
   "language": "python",
   "name": "python3"
  },
  "language_info": {
   "codemirror_mode": {
    "name": "ipython",
    "version": 3
   },
   "file_extension": ".py",
   "mimetype": "text/x-python",
   "name": "python",
   "nbconvert_exporter": "python",
   "pygments_lexer": "ipython3",
   "version": "3.9.16"
  },
  "orig_nbformat": 4
 },
 "nbformat": 4,
 "nbformat_minor": 2
}
